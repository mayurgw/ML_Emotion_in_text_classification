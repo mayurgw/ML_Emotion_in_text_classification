{
 "cells": [
  {
   "cell_type": "code",
   "execution_count": 4,
   "metadata": {},
   "outputs": [
    {
     "data": {
      "text/html": [
       "<div>\n",
       "<style scoped>\n",
       "    .dataframe tbody tr th:only-of-type {\n",
       "        vertical-align: middle;\n",
       "    }\n",
       "\n",
       "    .dataframe tbody tr th {\n",
       "        vertical-align: top;\n",
       "    }\n",
       "\n",
       "    .dataframe thead th {\n",
       "        text-align: right;\n",
       "    }\n",
       "</style>\n",
       "<table border=\"1\" class=\"dataframe\">\n",
       "  <thead>\n",
       "    <tr style=\"text-align: right;\">\n",
       "      <th></th>\n",
       "      <th>tweet_id</th>\n",
       "      <th>sentiment</th>\n",
       "      <th>author</th>\n",
       "      <th>content</th>\n",
       "    </tr>\n",
       "  </thead>\n",
       "  <tbody>\n",
       "    <tr>\n",
       "      <th>0</th>\n",
       "      <td>1956967341</td>\n",
       "      <td>empty</td>\n",
       "      <td>xoshayzers</td>\n",
       "      <td>@tiffanylue i know  i was listenin to bad habi...</td>\n",
       "    </tr>\n",
       "    <tr>\n",
       "      <th>1</th>\n",
       "      <td>1956967666</td>\n",
       "      <td>sadness</td>\n",
       "      <td>wannamama</td>\n",
       "      <td>Layin n bed with a headache  ughhhh...waitin o...</td>\n",
       "    </tr>\n",
       "    <tr>\n",
       "      <th>2</th>\n",
       "      <td>1956967696</td>\n",
       "      <td>sadness</td>\n",
       "      <td>coolfunky</td>\n",
       "      <td>Funeral ceremony...gloomy friday...</td>\n",
       "    </tr>\n",
       "    <tr>\n",
       "      <th>3</th>\n",
       "      <td>1956967789</td>\n",
       "      <td>enthusiasm</td>\n",
       "      <td>czareaquino</td>\n",
       "      <td>wants to hang out with friends SOON!</td>\n",
       "    </tr>\n",
       "    <tr>\n",
       "      <th>4</th>\n",
       "      <td>1956968416</td>\n",
       "      <td>neutral</td>\n",
       "      <td>xkilljoyx</td>\n",
       "      <td>@dannycastillo We want to trade with someone w...</td>\n",
       "    </tr>\n",
       "  </tbody>\n",
       "</table>\n",
       "</div>"
      ],
      "text/plain": [
       "     tweet_id   sentiment       author  \\\n",
       "0  1956967341       empty   xoshayzers   \n",
       "1  1956967666     sadness    wannamama   \n",
       "2  1956967696     sadness    coolfunky   \n",
       "3  1956967789  enthusiasm  czareaquino   \n",
       "4  1956968416     neutral    xkilljoyx   \n",
       "\n",
       "                                             content  \n",
       "0  @tiffanylue i know  i was listenin to bad habi...  \n",
       "1  Layin n bed with a headache  ughhhh...waitin o...  \n",
       "2                Funeral ceremony...gloomy friday...  \n",
       "3               wants to hang out with friends SOON!  \n",
       "4  @dannycastillo We want to trade with someone w...  "
      ]
     },
     "execution_count": 4,
     "metadata": {},
     "output_type": "execute_result"
    }
   ],
   "source": [
    "import pandas as pd \n",
    "df = pd.read_csv('./../../text_emotion.csv')\n",
    "df.head()"
   ]
  },
  {
   "cell_type": "code",
   "execution_count": 5,
   "metadata": {},
   "outputs": [],
   "source": [
    "def colorize(X,Y): #takes in X and Y as list of text strings\n",
    "    emotions_dict =  {'empty':\"\\033[1;30;47m \", 'sadness':\"\\033[1;37;45m \", 'enthusiasm':\"\\033[1;33;42m \", 'neutral':\"\\033[1;37;40m \", 'worry':\"\\033[1;31;47m \", 'surprise':\"\\033[1;32;43m \", 'love':\"\\033[1;35;46m \", 'fun':\"\\033[1;33;42m \", 'hate':\"\\033[1;31;40m \", 'happiness':\"\\033[1;36;43m \", 'boredom':\"\\033[1;36;47m \", 'relief':\"\\033[1;33;44m \", 'anger':\"\\033[1;47;41m \"}\n",
    "    for i in range(len(X)):\n",
    "        print(emotions_dict[Y[i]]+X[i])\n",
    "        print(Y[i])"
   ]
  },
  {
   "cell_type": "code",
   "execution_count": 6,
   "metadata": {},
   "outputs": [
    {
     "name": "stdout",
     "output_type": "stream",
     "text": [
      "\u001b[1;30;47m @tiffanylue i know  i was listenin to bad habit earlier and i started freakin at his part =[\n",
      "empty\n",
      "\u001b[1;37;45m Layin n bed with a headache  ughhhh...waitin on your call...\n",
      "sadness\n",
      "\u001b[1;37;45m Funeral ceremony...gloomy friday...\n",
      "sadness\n",
      "\u001b[1;33;42m wants to hang out with friends SOON!\n",
      "enthusiasm\n",
      "\u001b[1;37;40m @dannycastillo We want to trade with someone who has Houston tickets, but no one will.\n",
      "neutral\n",
      "\u001b[1;31;47m Re-pinging @ghostridah14: why didn't you go to prom? BC my bf didn't like my friends\n",
      "worry\n",
      "\u001b[1;37;45m I should be sleep, but im not! thinking about an old friend who I want. but he's married now. damn, &amp; he wants me 2! scandalous!\n",
      "sadness\n",
      "\u001b[1;31;47m Hmmm. http://www.djhero.com/ is down\n",
      "worry\n",
      "\u001b[1;37;45m @charviray Charlene my love. I miss you\n",
      "sadness\n",
      "\u001b[1;37;45m @kelcouch I'm sorry  at least it's Friday?\n",
      "sadness\n",
      "\u001b[1;37;40m cant fall asleep\n",
      "neutral\n",
      "\u001b[1;31;47m Choked on her retainers\n",
      "worry\n",
      "\u001b[1;37;45m Ugh! I have to beat this stupid song to get to the next  rude!\n",
      "sadness\n",
      "\u001b[1;37;45m @BrodyJenner if u watch the hills in london u will realise what tourture it is because were weeks and weeks late  i just watch itonlinelol\n",
      "sadness\n",
      "\u001b[1;32;43m Got the news\n",
      "surprise\n"
     ]
    }
   ],
   "source": [
    "#Demo run to uncomment has emotion written beneath it\n",
    "df_new  = df.head(15)\n",
    "X_train = df_new['content']\n",
    "Y_train = df_new['sentiment']\n",
    "colorize(X_train,Y_train)"
   ]
  },
  {
   "cell_type": "code",
   "execution_count": 10,
   "metadata": {},
   "outputs": [
    {
     "name": "stdout",
     "output_type": "stream",
     "text": [
      "['I feel angry when I see some people throwing trash bags in public places', ' Having picnics at beaches and lakes is unenjoyable because of sickening smells', ' Plastic cups and cases are spattered on the green lawn though a lot of trash tanks spread in the garden']\n",
      "                                             content\n",
      "0  I feel angry when I see some people throwing t...\n",
      "1   Having picnics at beaches and lakes is unenjo...\n",
      "2   Plastic cups and cases are spattered on the g...\n"
     ]
    }
   ],
   "source": [
    "sample_paragraph='I feel angry when I see some people throwing trash bags in public places. Having picnics at beaches and lakes is unenjoyable because of sickening smells. Plastic cups and cases are spattered on the green lawn though a lot of trash tanks spread in the garden'\n",
    "lines=sample_paragraph.split(\".\")\n",
    "print(lines)\n",
    "df = pd.DataFrame(lines, columns=['content'])\n",
    "print(df)\n"
   ]
  },
  {
   "cell_type": "code",
   "execution_count": null,
   "metadata": {},
   "outputs": [],
   "source": []
  }
 ],
 "metadata": {
  "kernelspec": {
   "display_name": "Python 3",
   "language": "python",
   "name": "python3"
  },
  "language_info": {
   "codemirror_mode": {
    "name": "ipython",
    "version": 3
   },
   "file_extension": ".py",
   "mimetype": "text/x-python",
   "name": "python",
   "nbconvert_exporter": "python",
   "pygments_lexer": "ipython3",
   "version": "3.5.2"
  }
 },
 "nbformat": 4,
 "nbformat_minor": 2
}
