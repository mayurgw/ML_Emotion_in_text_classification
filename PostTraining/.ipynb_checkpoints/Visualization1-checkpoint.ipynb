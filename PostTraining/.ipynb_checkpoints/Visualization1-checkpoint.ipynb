{
 "cells": [
  {
   "cell_type": "code",
   "execution_count": null,
   "metadata": {},
   "outputs": [],
   "source": [
    "import pandas as pd \n",
    "df = pd.read_csv('./../../../text_emotion.csv')\n",
    "df.head()"
   ]
  },
  {
   "cell_type": "code",
   "execution_count": null,
   "metadata": {},
   "outputs": [],
   "source": [
    "def colorize(X,Y): #takes in X and Y as list of text strings\n",
    "    emotions_dict =  {'empty':\"\\033[1;30;47m \", 'sadness':\"\\033[1;37;45m \", 'enthusiasm':\"\\033[1;33;42m \", 'neutral':\"\\033[1;37;40m \", 'worry':\"\\033[1;31;47m \", 'surprise':\"\\033[1;32;43m \", 'love':\"\\033[1;35;46m \", 'fun':\"\\033[1;33;42m \", 'hate':\"\\033[1;31;40m \", 'happiness':\"\\033[1;36;43m \", 'boredom':\"\\033[1;36;47m \", 'relief':\"\\033[1;33;44m \", 'anger':\"\\033[1;47;41m \"}\n",
    "    for i in range(len(X)):\n",
    "        print(emotions_dict[Y[i]]+X[i])\n",
    "        print(Y[i])"
   ]
  },
  {
   "cell_type": "code",
   "execution_count": null,
   "metadata": {},
   "outputs": [],
   "source": [
    "#Demo run to uncomment has emotion written beneath it\n",
    "df_new  = df.head(15)\n",
    "X_train = df_new['content']\n",
    "Y_train = df_new['sentiment']\n",
    "colorize(X_train,Y_train)"
   ]
  },
  {
   "cell_type": "code",
   "execution_count": null,
   "metadata": {},
   "outputs": [],
   "source": [
    "sample_paragraph='I feel angry when I see some people throwing trash bags in public places. Having picnics at beaches and lakes is unenjoyable because of sickening smells. Plastic cups and cases are spattered on the green lawn though a lot of trash tanks spread in the garden'\n",
    "lines=sample_paragraph.split(\".\")\n"
   ]
  }
 ],
 "metadata": {
  "kernelspec": {
   "display_name": "Python 3",
   "language": "python",
   "name": "python3"
  },
  "language_info": {
   "codemirror_mode": {
    "name": "ipython",
    "version": 3
   },
   "file_extension": ".py",
   "mimetype": "text/x-python",
   "name": "python",
   "nbconvert_exporter": "python",
   "pygments_lexer": "ipython3",
   "version": "3.5.2"
  }
 },
 "nbformat": 4,
 "nbformat_minor": 2
}
