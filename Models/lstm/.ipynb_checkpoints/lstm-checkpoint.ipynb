{
 "cells": [
  {
   "cell_type": "code",
   "execution_count": 1,
   "metadata": {},
   "outputs": [
    {
     "data": {
      "text/html": [
       "<div>\n",
       "<style scoped>\n",
       "    .dataframe tbody tr th:only-of-type {\n",
       "        vertical-align: middle;\n",
       "    }\n",
       "\n",
       "    .dataframe tbody tr th {\n",
       "        vertical-align: top;\n",
       "    }\n",
       "\n",
       "    .dataframe thead th {\n",
       "        text-align: right;\n",
       "    }\n",
       "</style>\n",
       "<table border=\"1\" class=\"dataframe\">\n",
       "  <thead>\n",
       "    <tr style=\"text-align: right;\">\n",
       "      <th></th>\n",
       "      <th>tweet_id</th>\n",
       "      <th>sentiment</th>\n",
       "      <th>author</th>\n",
       "      <th>content</th>\n",
       "    </tr>\n",
       "  </thead>\n",
       "  <tbody>\n",
       "    <tr>\n",
       "      <th>0</th>\n",
       "      <td>1956967341</td>\n",
       "      <td>empty</td>\n",
       "      <td>xoshayzers</td>\n",
       "      <td>@tiffanylue i know  i was listenin to bad habi...</td>\n",
       "    </tr>\n",
       "    <tr>\n",
       "      <th>1</th>\n",
       "      <td>1956967666</td>\n",
       "      <td>sadness</td>\n",
       "      <td>wannamama</td>\n",
       "      <td>Layin n bed with a headache  ughhhh...waitin o...</td>\n",
       "    </tr>\n",
       "    <tr>\n",
       "      <th>2</th>\n",
       "      <td>1956967696</td>\n",
       "      <td>sadness</td>\n",
       "      <td>coolfunky</td>\n",
       "      <td>Funeral ceremony...gloomy friday...</td>\n",
       "    </tr>\n",
       "    <tr>\n",
       "      <th>3</th>\n",
       "      <td>1956967789</td>\n",
       "      <td>enthusiasm</td>\n",
       "      <td>czareaquino</td>\n",
       "      <td>wants to hang out with friends SOON!</td>\n",
       "    </tr>\n",
       "    <tr>\n",
       "      <th>4</th>\n",
       "      <td>1956968416</td>\n",
       "      <td>neutral</td>\n",
       "      <td>xkilljoyx</td>\n",
       "      <td>@dannycastillo We want to trade with someone w...</td>\n",
       "    </tr>\n",
       "  </tbody>\n",
       "</table>\n",
       "</div>"
      ],
      "text/plain": [
       "     tweet_id   sentiment       author  \\\n",
       "0  1956967341       empty   xoshayzers   \n",
       "1  1956967666     sadness    wannamama   \n",
       "2  1956967696     sadness    coolfunky   \n",
       "3  1956967789  enthusiasm  czareaquino   \n",
       "4  1956968416     neutral    xkilljoyx   \n",
       "\n",
       "                                             content  \n",
       "0  @tiffanylue i know  i was listenin to bad habi...  \n",
       "1  Layin n bed with a headache  ughhhh...waitin o...  \n",
       "2                Funeral ceremony...gloomy friday...  \n",
       "3               wants to hang out with friends SOON!  \n",
       "4  @dannycastillo We want to trade with someone w...  "
      ]
     },
     "execution_count": 1,
     "metadata": {},
     "output_type": "execute_result"
    }
   ],
   "source": [
    "import pandas as pd\n",
    "df = pd.read_csv('./../../../text_emotion.csv')\n",
    "df.head()"
   ]
  },
  {
   "cell_type": "code",
   "execution_count": 2,
   "metadata": {},
   "outputs": [
    {
     "data": {
      "text/html": [
       "<div>\n",
       "<style scoped>\n",
       "    .dataframe tbody tr th:only-of-type {\n",
       "        vertical-align: middle;\n",
       "    }\n",
       "\n",
       "    .dataframe tbody tr th {\n",
       "        vertical-align: top;\n",
       "    }\n",
       "\n",
       "    .dataframe thead th {\n",
       "        text-align: right;\n",
       "    }\n",
       "</style>\n",
       "<table border=\"1\" class=\"dataframe\">\n",
       "  <thead>\n",
       "    <tr style=\"text-align: right;\">\n",
       "      <th></th>\n",
       "      <th>tweet_id</th>\n",
       "      <th>sentiment</th>\n",
       "      <th>content</th>\n",
       "      <th>category_id</th>\n",
       "    </tr>\n",
       "  </thead>\n",
       "  <tbody>\n",
       "    <tr>\n",
       "      <th>0</th>\n",
       "      <td>1956967341</td>\n",
       "      <td>empty</td>\n",
       "      <td>@tiffanylue i know  i was listenin to bad habi...</td>\n",
       "      <td>0</td>\n",
       "    </tr>\n",
       "    <tr>\n",
       "      <th>1</th>\n",
       "      <td>1956967666</td>\n",
       "      <td>sadness</td>\n",
       "      <td>Layin n bed with a headache  ughhhh...waitin o...</td>\n",
       "      <td>1</td>\n",
       "    </tr>\n",
       "    <tr>\n",
       "      <th>2</th>\n",
       "      <td>1956967696</td>\n",
       "      <td>sadness</td>\n",
       "      <td>Funeral ceremony...gloomy friday...</td>\n",
       "      <td>1</td>\n",
       "    </tr>\n",
       "    <tr>\n",
       "      <th>3</th>\n",
       "      <td>1956967789</td>\n",
       "      <td>enthusiasm</td>\n",
       "      <td>wants to hang out with friends SOON!</td>\n",
       "      <td>2</td>\n",
       "    </tr>\n",
       "    <tr>\n",
       "      <th>4</th>\n",
       "      <td>1956968416</td>\n",
       "      <td>neutral</td>\n",
       "      <td>@dannycastillo We want to trade with someone w...</td>\n",
       "      <td>3</td>\n",
       "    </tr>\n",
       "  </tbody>\n",
       "</table>\n",
       "</div>"
      ],
      "text/plain": [
       "     tweet_id   sentiment                                            content  \\\n",
       "0  1956967341       empty  @tiffanylue i know  i was listenin to bad habi...   \n",
       "1  1956967666     sadness  Layin n bed with a headache  ughhhh...waitin o...   \n",
       "2  1956967696     sadness                Funeral ceremony...gloomy friday...   \n",
       "3  1956967789  enthusiasm               wants to hang out with friends SOON!   \n",
       "4  1956968416     neutral  @dannycastillo We want to trade with someone w...   \n",
       "\n",
       "   category_id  \n",
       "0            0  \n",
       "1            1  \n",
       "2            1  \n",
       "3            2  \n",
       "4            3  "
      ]
     },
     "execution_count": 2,
     "metadata": {},
     "output_type": "execute_result"
    }
   ],
   "source": [
    "#converting \n",
    "\n",
    "from io import StringIO\n",
    "col = ['tweet_id','sentiment', 'content']\n",
    "df = df[col]\n",
    "df = df[pd.notnull(df['content'])]\n",
    "# df = df.head(10000)\n",
    "df.columns = ['tweet_id','sentiment', 'content']\n",
    "df['category_id'] = df['sentiment'].factorize()[0]\n",
    "category_id_df = df[['sentiment', 'category_id']].drop_duplicates().sort_values('category_id')\n",
    "category_to_id = dict(category_id_df.values)\n",
    "id_to_category = dict(category_id_df[['category_id', 'sentiment']].values)\n",
    "df.head()"
   ]
  },
  {
   "cell_type": "code",
   "execution_count": null,
   "metadata": {},
   "outputs": [],
   "source": []
  },
  {
   "cell_type": "code",
   "execution_count": null,
   "metadata": {},
   "outputs": [],
   "source": []
  },
  {
   "cell_type": "code",
   "execution_count": 4,
   "metadata": {},
   "outputs": [
    {
     "data": {
      "text/plain": [
       "<Figure size 800x600 with 1 Axes>"
      ]
     },
     "metadata": {},
     "output_type": "display_data"
    }
   ],
   "source": [
    "import matplotlib.pyplot as plt\n",
    "fig = plt.figure(figsize=(8,6))\n",
    "df.groupby('sentiment').content.count().plot.bar(ylim=0)\n",
    "plt.show()"
   ]
  },
  {
   "cell_type": "code",
   "execution_count": 9,
   "metadata": {},
   "outputs": [],
   "source": [
    "import re\n",
    "def removeIrrelvantInfo(df,replace_user_reference='<user>',replace_webpage='<url>',replace_hastag='<hastag>'):\n",
    "    regex_user_reference = re.compile('@[a-zA-Z0-9]+')\n",
    "    references = []\n",
    "#     for entry in df['content']:\n",
    "#         references.append(regex_references.findall(entry))\n",
    "    df['content'] = df['content'].str.replace(regex_user_reference,replace_user_reference)\n",
    "\n",
    "    regex_websites = re.compile('http://[www.]*[a-zA-Z0-9]+.[a-z]+/[a-zA-Z0-9//]*')\n",
    "    websites = []\n",
    "#     for entry in df['content']:\n",
    "#         regex_websites.findall(entry)\n",
    "    df['content'] = df['content'].str.replace(regex_websites,replace_webpage)\n",
    "    regex_extrachars = re.compile('[\\.\\:]+')\n",
    "    df['content'] = df['content'].str.replace(regex_extrachars,'')\n",
    "    df['content'] = df['content'].str.lower()\n",
    "    return df"
   ]
  },
  {
   "cell_type": "code",
   "execution_count": 10,
   "metadata": {},
   "outputs": [],
   "source": [
    "df = removeIrrelvantInfo(df)"
   ]
  },
  {
   "cell_type": "code",
   "execution_count": 11,
   "metadata": {},
   "outputs": [],
   "source": [
    "import numpy as np\n",
    "# embeddings_text = open('glove50.txt')\n",
    "WordToVec       = dict()\n",
    "with open('./../../../glove.twitter.27B.50d.txt') as embeddings_text: \n",
    "    for line in embeddings_text:\n",
    "        entry_array = line.split(\" \")\n",
    "        word        = entry_array[0] \n",
    "        word_vector = np.array(entry_array[1:],dtype='float32')\n",
    "        WordToVec[word] = word_vector"
   ]
  },
  {
   "cell_type": "code",
   "execution_count": 43,
   "metadata": {},
   "outputs": [
    {
     "name": "stdout",
     "output_type": "stream",
     "text": [
      "[ 0.78704   0.72151   0.29148  -0.056527  0.31683   0.47172   0.023461\n",
      "  0.69568   0.20782   0.60985  -0.22386   0.7481   -2.6208    0.20117\n",
      " -0.48104   0.12897   0.035239 -0.24486  -0.36088   0.026686  0.28978\n",
      " -0.10698  -0.34621   0.021053  0.54514  -1.0958   -0.274     0.2233\n",
      "  1.0827   -0.029018 -0.84029   0.58619  -0.36511   0.34016   0.89615\n",
      "  0.32757   0.24267   0.68404  -0.34374   0.13583  -2.2162   -0.42537\n",
      "  0.46157   0.88626  -0.22014   0.025599 -0.38615   0.080107 -0.075323\n",
      " -0.61461 ]\n"
     ]
    }
   ],
   "source": [
    "print(WordToVec.get(\"<user>\"))"
   ]
  },
  {
   "cell_type": "code",
   "execution_count": 121,
   "metadata": {},
   "outputs": [],
   "source": [
    "from keras.preprocessing.text import Tokenizer\n",
    "from keras.preprocessing.sequence import pad_sequences\n",
    "from keras.models import Sequential\n",
    "from keras.layers import Dense, Embedding, LSTM, SpatialDropout1D\n",
    "from sklearn.model_selection import train_test_split\n",
    "from keras import optimizers"
   ]
  },
  {
   "cell_type": "code",
   "execution_count": 93,
   "metadata": {},
   "outputs": [
    {
     "name": "stdout",
     "output_type": "stream",
     "text": [
      "40000\n"
     ]
    },
    {
     "data": {
      "text/plain": [
       "(40000, 35)"
      ]
     },
     "execution_count": 93,
     "metadata": {},
     "output_type": "execute_result"
    }
   ],
   "source": [
    "max_features = 8000\n",
    "tokenizer = Tokenizer(num_words=max_features,lower=True, split=' ')\n",
    "tokenizer.fit_on_texts(df['content'].values)\n",
    "print(tokenizer.document_count)\n",
    "X = tokenizer.texts_to_sequences(df['content'].values)\n",
    "X = pad_sequences(X)\n",
    "X.shape"
   ]
  },
  {
   "cell_type": "code",
   "execution_count": 91,
   "metadata": {},
   "outputs": [
    {
     "name": "stdout",
     "output_type": "stream",
     "text": [
      "(40000, 8000)\n"
     ]
    }
   ],
   "source": [
    "# from sklearn.feature_extraction.text import CountVectorizer\n",
    "# count_vect = CountVectorizer(stop_words='english',max_features=8000)\n",
    "\n",
    "# X_train_counts = count_vect.fit_transform(df['content'].values)\n",
    "# print(X_train_counts.shape)"
   ]
  },
  {
   "cell_type": "code",
   "execution_count": 94,
   "metadata": {},
   "outputs": [
    {
     "name": "stdout",
     "output_type": "stream",
     "text": [
      "35162\n"
     ]
    }
   ],
   "source": [
    "vocab=len(tokenizer.word_index.items())\n",
    "print(vocab)"
   ]
  },
  {
   "cell_type": "code",
   "execution_count": 100,
   "metadata": {},
   "outputs": [],
   "source": [
    "embedding_matrix = np.zeros((max_features, 50))\n",
    "\n",
    "for word, index in tokenizer.word_index.items():\n",
    "    if index > max_features-1:\n",
    "        continue\n",
    "    else:\n",
    "        embedding_vector = WordToVec.get(word.lower())\n",
    "#         print(embedding_vector)\n",
    "        if embedding_vector is not None:\n",
    "            embedding_matrix[index] = embedding_vector"
   ]
  },
  {
   "cell_type": "code",
   "execution_count": 101,
   "metadata": {},
   "outputs": [
    {
     "data": {
      "text/plain": [
       "array([ 1.36409998e-01,  3.24840009e-01, -3.60680014e-01,  4.46200013e-01,\n",
       "       -4.31780010e-01,  2.11420000e-01, -1.68080002e-01, -8.40279981e-02,\n",
       "        5.99760003e-02, -1.47979999e+00,  1.25740003e-02, -4.51999992e-01,\n",
       "       -5.02299976e+00, -1.52960002e+00, -1.24950004e+00,  7.72960007e-01,\n",
       "       -4.91690010e-01, -4.44349982e-02, -8.26520026e-01, -1.15520000e-01,\n",
       "        9.30010021e-01,  5.35790026e-01,  6.80790007e-01,  1.32809997e+00,\n",
       "       -2.19530001e-01, -2.88299990e+00,  4.44629997e-01, -3.80789995e-01,\n",
       "       -5.83570004e-01, -4.57289994e-01, -5.64649999e-01,  3.88559997e-01,\n",
       "        1.76840007e-01, -5.35020009e-02, -6.67760015e-01, -5.03510013e-02,\n",
       "        1.10650003e-01, -2.31800005e-01, -5.00079989e-01,  5.33959985e-01,\n",
       "       -1.72880006e+00,  1.54119998e-01, -1.85949996e-01, -1.95470005e-01,\n",
       "        3.34569998e-03, -3.20780009e-01,  8.09149981e-01,  9.82360005e-01,\n",
       "        2.20939994e-01, -1.21550001e-01])"
      ]
     },
     "execution_count": 101,
     "metadata": {},
     "output_type": "execute_result"
    }
   ],
   "source": [
    "embedding_matrix[15]"
   ]
  },
  {
   "cell_type": "code",
   "execution_count": 122,
   "metadata": {},
   "outputs": [
    {
     "name": "stdout",
     "output_type": "stream",
     "text": [
      "_________________________________________________________________\n",
      "Layer (type)                 Output Shape              Param #   \n",
      "=================================================================\n",
      "embedding_7 (Embedding)      (None, 35, 50)            400000    \n",
      "_________________________________________________________________\n",
      "spatial_dropout1d_7 (Spatial (None, 35, 50)            0         \n",
      "_________________________________________________________________\n",
      "lstm_7 (LSTM)                (None, 32)                10624     \n",
      "_________________________________________________________________\n",
      "dense_9 (Dense)              (None, 50)                1650      \n",
      "_________________________________________________________________\n",
      "dense_10 (Dense)             (None, 13)                663       \n",
      "=================================================================\n",
      "Total params: 412,937\n",
      "Trainable params: 12,937\n",
      "Non-trainable params: 400,000\n",
      "_________________________________________________________________\n",
      "None\n"
     ]
    }
   ],
   "source": [
    "embed_dim = 50\n",
    "lstm_out = 32\n",
    "\n",
    "adam = optimizers.Adam(lr=0.01)\n",
    "\n",
    "model = Sequential()\n",
    "# model.add(Embedding(max_features, embed_dim,input_length = X.shape[1]))\n",
    "model.add(Embedding(max_features, embed_dim, input_length=X.shape[1], weights=[embedding_matrix], trainable=False))\n",
    "model.add(SpatialDropout1D(0.2))\n",
    "model.add(LSTM(lstm_out, dropout=0.2, recurrent_dropout=0.2))\n",
    "model.add(Dense(50,activation='relu'))\n",
    "model.add(Dense(13,activation='softmax'))\n",
    "model.compile(loss = 'categorical_crossentropy', optimizer=adam,metrics = ['accuracy'])\n",
    "print(model.summary())"
   ]
  },
  {
   "cell_type": "code",
   "execution_count": 123,
   "metadata": {},
   "outputs": [
    {
     "name": "stdout",
     "output_type": "stream",
     "text": [
      "(32000, 35) (32000, 13)\n",
      "(8000, 35) (8000, 13)\n"
     ]
    }
   ],
   "source": [
    "Y = pd.get_dummies(df['category_id']).values\n",
    "X_train, X_test, Y_train, Y_test = train_test_split(X,Y, test_size = 0.20, random_state = 42)\n",
    "print(X_train.shape,Y_train.shape)\n",
    "print(X_test.shape,Y_test.shape)"
   ]
  },
  {
   "cell_type": "code",
   "execution_count": 124,
   "metadata": {},
   "outputs": [],
   "source": [
    "validation_size = 1000\n",
    "\n",
    "X_validate = X_test[-validation_size:]\n",
    "Y_validate = Y_test[-validation_size:]\n",
    "X_test = X_test[:-validation_size]\n",
    "Y_test = Y_test[:-validation_size]"
   ]
  },
  {
   "cell_type": "code",
   "execution_count": null,
   "metadata": {},
   "outputs": [
    {
     "name": "stdout",
     "output_type": "stream",
     "text": [
      "Train on 32000 samples, validate on 1000 samples\n",
      "Epoch 1/50\n",
      " - 16s - loss: 2.0452 - acc: 0.2839 - val_loss: 2.0101 - val_acc: 0.3060\n",
      "Epoch 2/50\n",
      " - 19s - loss: 1.9831 - acc: 0.3202 - val_loss: 1.9761 - val_acc: 0.3100\n",
      "Epoch 3/50\n"
     ]
    }
   ],
   "source": [
    "batch_size = 32\n",
    "history=model.fit(X_train, Y_train, epochs = 50, batch_size=batch_size, verbose = 2,validation_data=(X_validate,Y_validate))"
   ]
  },
  {
   "cell_type": "code",
   "execution_count": 19,
   "metadata": {},
   "outputs": [
    {
     "name": "stdout",
     "output_type": "stream",
     "text": [
      "score: 2.82\n",
      "acc: 0.30\n"
     ]
    }
   ],
   "source": [
    "\n",
    "score,acc = model.evaluate(X_test, Y_test, verbose = 2, batch_size = batch_size)\n",
    "print(\"score: %.2f\" % (score))\n",
    "print(\"acc: %.2f\" % (acc))"
   ]
  },
  {
   "cell_type": "code",
   "execution_count": null,
   "metadata": {},
   "outputs": [],
   "source": []
  }
 ],
 "metadata": {
  "kernelspec": {
   "display_name": "Python 3",
   "language": "python",
   "name": "python3"
  },
  "language_info": {
   "codemirror_mode": {
    "name": "ipython",
    "version": 3
   },
   "file_extension": ".py",
   "mimetype": "text/x-python",
   "name": "python",
   "nbconvert_exporter": "python",
   "pygments_lexer": "ipython3",
   "version": "3.5.2"
  }
 },
 "nbformat": 4,
 "nbformat_minor": 2
}
