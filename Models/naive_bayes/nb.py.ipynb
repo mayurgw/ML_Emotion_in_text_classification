{
 "cells": [
  {
   "cell_type": "code",
   "execution_count": 1,
   "metadata": {},
   "outputs": [
    {
     "data": {
      "text/html": [
       "<div>\n",
       "<style scoped>\n",
       "    .dataframe tbody tr th:only-of-type {\n",
       "        vertical-align: middle;\n",
       "    }\n",
       "\n",
       "    .dataframe tbody tr th {\n",
       "        vertical-align: top;\n",
       "    }\n",
       "\n",
       "    .dataframe thead th {\n",
       "        text-align: right;\n",
       "    }\n",
       "</style>\n",
       "<table border=\"1\" class=\"dataframe\">\n",
       "  <thead>\n",
       "    <tr style=\"text-align: right;\">\n",
       "      <th></th>\n",
       "      <th>tweet_id</th>\n",
       "      <th>sentiment</th>\n",
       "      <th>author</th>\n",
       "      <th>content</th>\n",
       "    </tr>\n",
       "  </thead>\n",
       "  <tbody>\n",
       "    <tr>\n",
       "      <th>0</th>\n",
       "      <td>1956967341</td>\n",
       "      <td>empty</td>\n",
       "      <td>xoshayzers</td>\n",
       "      <td>@tiffanylue i know  i was listenin to bad habi...</td>\n",
       "    </tr>\n",
       "    <tr>\n",
       "      <th>1</th>\n",
       "      <td>1956967666</td>\n",
       "      <td>sadness</td>\n",
       "      <td>wannamama</td>\n",
       "      <td>Layin n bed with a headache  ughhhh...waitin o...</td>\n",
       "    </tr>\n",
       "    <tr>\n",
       "      <th>2</th>\n",
       "      <td>1956967696</td>\n",
       "      <td>sadness</td>\n",
       "      <td>coolfunky</td>\n",
       "      <td>Funeral ceremony...gloomy friday...</td>\n",
       "    </tr>\n",
       "    <tr>\n",
       "      <th>3</th>\n",
       "      <td>1956967789</td>\n",
       "      <td>enthusiasm</td>\n",
       "      <td>czareaquino</td>\n",
       "      <td>wants to hang out with friends SOON!</td>\n",
       "    </tr>\n",
       "    <tr>\n",
       "      <th>4</th>\n",
       "      <td>1956968416</td>\n",
       "      <td>neutral</td>\n",
       "      <td>xkilljoyx</td>\n",
       "      <td>@dannycastillo We want to trade with someone w...</td>\n",
       "    </tr>\n",
       "  </tbody>\n",
       "</table>\n",
       "</div>"
      ],
      "text/plain": [
       "     tweet_id   sentiment       author  \\\n",
       "0  1956967341       empty   xoshayzers   \n",
       "1  1956967666     sadness    wannamama   \n",
       "2  1956967696     sadness    coolfunky   \n",
       "3  1956967789  enthusiasm  czareaquino   \n",
       "4  1956968416     neutral    xkilljoyx   \n",
       "\n",
       "                                             content  \n",
       "0  @tiffanylue i know  i was listenin to bad habi...  \n",
       "1  Layin n bed with a headache  ughhhh...waitin o...  \n",
       "2                Funeral ceremony...gloomy friday...  \n",
       "3               wants to hang out with friends SOON!  \n",
       "4  @dannycastillo We want to trade with someone w...  "
      ]
     },
     "execution_count": 1,
     "metadata": {},
     "output_type": "execute_result"
    }
   ],
   "source": [
    "import pandas as pd\n",
    "df = pd.read_csv('./../../../text_emotion.csv')\n",
    "df.head()"
   ]
  },
  {
   "cell_type": "code",
   "execution_count": 2,
   "metadata": {},
   "outputs": [
    {
     "data": {
      "text/html": [
       "<div>\n",
       "<style scoped>\n",
       "    .dataframe tbody tr th:only-of-type {\n",
       "        vertical-align: middle;\n",
       "    }\n",
       "\n",
       "    .dataframe tbody tr th {\n",
       "        vertical-align: top;\n",
       "    }\n",
       "\n",
       "    .dataframe thead th {\n",
       "        text-align: right;\n",
       "    }\n",
       "</style>\n",
       "<table border=\"1\" class=\"dataframe\">\n",
       "  <thead>\n",
       "    <tr style=\"text-align: right;\">\n",
       "      <th></th>\n",
       "      <th>tweet_id</th>\n",
       "      <th>sentiment</th>\n",
       "      <th>content</th>\n",
       "      <th>category_id</th>\n",
       "    </tr>\n",
       "  </thead>\n",
       "  <tbody>\n",
       "    <tr>\n",
       "      <th>0</th>\n",
       "      <td>1956967341</td>\n",
       "      <td>empty</td>\n",
       "      <td>@tiffanylue i know  i was listenin to bad habi...</td>\n",
       "      <td>0</td>\n",
       "    </tr>\n",
       "    <tr>\n",
       "      <th>1</th>\n",
       "      <td>1956967666</td>\n",
       "      <td>sadness</td>\n",
       "      <td>Layin n bed with a headache  ughhhh...waitin o...</td>\n",
       "      <td>1</td>\n",
       "    </tr>\n",
       "    <tr>\n",
       "      <th>2</th>\n",
       "      <td>1956967696</td>\n",
       "      <td>sadness</td>\n",
       "      <td>Funeral ceremony...gloomy friday...</td>\n",
       "      <td>1</td>\n",
       "    </tr>\n",
       "    <tr>\n",
       "      <th>3</th>\n",
       "      <td>1956967789</td>\n",
       "      <td>enthusiasm</td>\n",
       "      <td>wants to hang out with friends SOON!</td>\n",
       "      <td>2</td>\n",
       "    </tr>\n",
       "    <tr>\n",
       "      <th>4</th>\n",
       "      <td>1956968416</td>\n",
       "      <td>neutral</td>\n",
       "      <td>@dannycastillo We want to trade with someone w...</td>\n",
       "      <td>3</td>\n",
       "    </tr>\n",
       "  </tbody>\n",
       "</table>\n",
       "</div>"
      ],
      "text/plain": [
       "     tweet_id   sentiment                                            content  \\\n",
       "0  1956967341       empty  @tiffanylue i know  i was listenin to bad habi...   \n",
       "1  1956967666     sadness  Layin n bed with a headache  ughhhh...waitin o...   \n",
       "2  1956967696     sadness                Funeral ceremony...gloomy friday...   \n",
       "3  1956967789  enthusiasm               wants to hang out with friends SOON!   \n",
       "4  1956968416     neutral  @dannycastillo We want to trade with someone w...   \n",
       "\n",
       "   category_id  \n",
       "0            0  \n",
       "1            1  \n",
       "2            1  \n",
       "3            2  \n",
       "4            3  "
      ]
     },
     "execution_count": 2,
     "metadata": {},
     "output_type": "execute_result"
    }
   ],
   "source": [
    "#converting \n",
    "\n",
    "from io import StringIO\n",
    "col = ['tweet_id','sentiment', 'content']\n",
    "df = df[col]\n",
    "df = df[pd.notnull(df['content'])]\n",
    "df = df.head(10000)\n",
    "df.columns = ['tweet_id','sentiment', 'content']\n",
    "df['category_id'] = df['sentiment'].factorize()[0]\n",
    "category_id_df = df[['sentiment', 'category_id']].drop_duplicates().sort_values('category_id')\n",
    "category_to_id = dict(category_id_df.values)\n",
    "id_to_category = dict(category_id_df[['category_id', 'sentiment']].values)\n",
    "df.head()"
   ]
  },
  {
   "cell_type": "code",
   "execution_count": 7,
   "metadata": {},
   "outputs": [
    {
     "data": {
      "text/plain": [
       "{0: 'empty',\n",
       " 1: 'sadness',\n",
       " 2: 'enthusiasm',\n",
       " 3: 'neutral',\n",
       " 4: 'worry',\n",
       " 5: 'surprise',\n",
       " 6: 'love',\n",
       " 7: 'fun',\n",
       " 8: 'hate',\n",
       " 9: 'happiness',\n",
       " 10: 'boredom',\n",
       " 11: 'relief',\n",
       " 12: 'anger'}"
      ]
     },
     "execution_count": 7,
     "metadata": {},
     "output_type": "execute_result"
    }
   ],
   "source": [
    "category_id_df\n",
    "category_to_id\n",
    "id_to_category"
   ]
  },
  {
   "cell_type": "code",
   "execution_count": 5,
   "metadata": {},
   "outputs": [
    {
     "data": {
      "image/png": "[encoded data removed]",
      "text/plain": [
       "<Figure size 576x432 with 1 Axes>"
      ]
     },
     "metadata": {},
     "output_type": "display_data"
    }
   ],
   "source": [
    "import matplotlib.pyplot as plt\n",
    "fig = plt.figure(figsize=(8,6))\n",
    "df.groupby('sentiment').content.count().plot.bar(ylim=0)\n",
    "plt.show()"
   ]
  },
  {
   "cell_type": "code",
   "execution_count": 4,
   "metadata": {},
   "outputs": [
    {
     "data": {
      "text/plain": [
       "(40000, 8455)"
      ]
     },
     "execution_count": 4,
     "metadata": {},
     "output_type": "execute_result"
    }
   ],
   "source": [
    "from sklearn.feature_extraction.text import TfidfVectorizer\n",
    "tfidf = TfidfVectorizer(sublinear_tf=True, min_df=5, norm='l2', encoding='latin-1', ngram_range=(1, 2), stop_words='english')\n",
    "features = tfidf.fit_transform(df.content).toarray()\n",
    "labels = df.category_id\n",
    "features.shape"
   ]
  },
  {
   "cell_type": "code",
   "execution_count": 5,
   "metadata": {},
   "outputs": [
    {
     "name": "stdout",
     "output_type": "stream",
     "text": [
      "# 'anger':\n",
      "  . Most correlated unigrams:\n",
      ". filthy\n",
      ". damned\n",
      "  . Most correlated bigrams:\n",
      ". slow today\n",
      ". people work\n",
      "# 'boredom':\n",
      "  . Most correlated unigrams:\n",
      ". sooooooo\n",
      ". bored\n",
      "  . Most correlated bigrams:\n",
      ". really bored\n",
      ". im bored\n",
      "# 'empty':\n",
      "  . Most correlated unigrams:\n",
      ". labor\n",
      ". bored\n",
      "  . Most correlated bigrams:\n",
      ". trying sleep\n",
      ". goodnight world\n",
      "# 'enthusiasm':\n",
      "  . Most correlated unigrams:\n",
      ". sings\n",
      ". grape\n",
      "  . Most correlated bigrams:\n",
      ". wait start\n",
      ". weekend long\n",
      "# 'fun':\n",
      "  . Most correlated unigrams:\n",
      ". lol\n",
      ". fun\n",
      "  . Most correlated bigrams:\n",
      ". need followers\n",
      ". guys just\n",
      "# 'happiness':\n",
      "  . Most correlated unigrams:\n",
      ". thanks\n",
      ". great\n",
      "  . Most correlated bigrams:\n",
      ". happy star\n",
      ". good morning\n",
      "# 'hate':\n",
      "  . Most correlated unigrams:\n",
      ". sucks\n",
      ". hate\n",
      "  . Most correlated bigrams:\n",
      ". hate rain\n",
      ". ugh hate\n",
      "# 'love':\n",
      "  . Most correlated unigrams:\n",
      ". happy\n",
      ". love\n",
      "  . Most correlated bigrams:\n",
      ". mother day\n",
      ". happy mother\n",
      "# 'neutral':\n",
      "  . Most correlated unigrams:\n",
      ". sad\n",
      ". love\n",
      "  . Most correlated bigrams:\n",
      ". http tinyurl\n",
      ". tinyurl com\n",
      "# 'relief':\n",
      "  . Most correlated unigrams:\n",
      ". glad\n",
      ". finally\n",
      "  . Most correlated bigrams:\n",
      ". finally got\n",
      ". finally home\n",
      "# 'sadness':\n",
      "  . Most correlated unigrams:\n",
      ". miss\n",
      ". sad\n",
      "  . Most correlated bigrams:\n",
      ". mother day\n",
      ". im sad\n",
      "# 'surprise':\n",
      "  . Most correlated unigrams:\n",
      ". omg\n",
      ". wow\n",
      "  . Most correlated bigrams:\n",
      ". didn know\n",
      ". oh really\n",
      "# 'worry':\n",
      "  . Most correlated unigrams:\n",
      ". poor\n",
      ". sorry\n",
      "  . Most correlated bigrams:\n",
      ". don know\n",
      ". sorry hear\n"
     ]
    }
   ],
   "source": [
    "from sklearn.feature_selection import chi2\n",
    "import numpy as np\n",
    "N = 2\n",
    "for sentiment, category_id in sorted(category_to_id.items()):\n",
    "  features_chi2 = chi2(features, labels == category_id)\n",
    "  indices = np.argsort(features_chi2[0])\n",
    "  feature_names = np.array(tfidf.get_feature_names())[indices]\n",
    "  unigrams = [v for v in feature_names if len(v.split(' ')) == 1]\n",
    "  bigrams = [v for v in feature_names if len(v.split(' ')) == 2]\n",
    "  print(\"# '{}':\".format(sentiment))\n",
    "  print(\"  . Most correlated unigrams:\\n. {}\".format('\\n. '.join(unigrams[-N:])))\n",
    "  print(\"  . Most correlated bigrams:\\n. {}\".format('\\n. '.join(bigrams[-N:])))"
   ]
  },
  {
   "cell_type": "code",
   "execution_count": 24,
   "metadata": {},
   "outputs": [
    {
     "name": "stdout",
     "output_type": "stream",
     "text": [
      "@tiffanylue i know  i was listenin to bad habit earlier and i started freakin at his part =[\n",
      "['amp', 'bad', 'bc', 'bed', 'bf', 'com', 'damn', 'didn', 'djhero', 'earlier', 'freakin', 'friday', 'friend', 'friends', 'ghostridah14', 'habit', 'hang', 'headache', 'hmmm', 'http', 'im', 'kelcouch', 'know', 'layin', 'like', 'listenin', 'married', 'old', 'pinging', 'prom', 'scandalous', 'sleep', 'soon', 'sorry', 'started', 'thinking', 'tiffanylue', 'ughhhh', 'waitin', 'want', 'wants', 'www']\n",
      "CountVectorizer(analyzer='word', binary=False, decode_error='strict',\n",
      "        dtype=<class 'numpy.int64'>, encoding='utf-8', input='content',\n",
      "        lowercase=True, max_df=1.0, max_features=None, min_df=1,\n",
      "        ngram_range=(1, 1), preprocessor=None, stop_words='english',\n",
      "        strip_accents=None, token_pattern='(?u)\\\\b\\\\w\\\\w+\\\\b',\n",
      "        tokenizer=None, vocabulary=None)\n",
      "<class 'scipy.sparse.csr.csr_matrix'>\n",
      "[[0 0 0 0 0 0 0 0 0 0 0 1 0 0 0 0 0 0 0 0 0 1 0 0 0 0 0 0 0 0 0 0 0 1 0 0\n",
      "  0 0 0 0 0 0]]\n",
      "(7, 42)\n",
      "  (0, 21)\t0.5773502691896257\n",
      "  (0, 33)\t0.5773502691896257\n",
      "  (0, 11)\t0.5773502691896257\n",
      "  (1, 23)\t0.4472135954999579\n",
      "  (1, 3)\t0.4472135954999579\n",
      "  (1, 17)\t0.4472135954999579\n",
      "  (1, 37)\t0.4472135954999579\n",
      "  (1, 38)\t0.4472135954999579\n",
      "  (2, 31)\t0.30586557259384056\n",
      "  (2, 20)\t0.30586557259384056\n",
      "  (2, 35)\t0.30586557259384056\n",
      "  (2, 27)\t0.30586557259384056\n",
      "  (2, 12)\t0.30586557259384056\n",
      "  (2, 39)\t0.30586557259384056\n",
      "  (2, 26)\t0.30586557259384056\n",
      "  (2, 6)\t0.30586557259384056\n",
      "  (2, 0)\t0.30586557259384056\n",
      "  (2, 40)\t0.2538946927732448\n",
      "  (2, 30)\t0.30586557259384056\n",
      "  (3, 18)\t0.4472135954999579\n",
      "  (3, 19)\t0.4472135954999579\n",
      "  (3, 41)\t0.4472135954999579\n",
      "  (3, 8)\t0.4472135954999579\n",
      "  (3, 5)\t0.4472135954999579\n",
      "  (4, 40)\t0.4516351457444982\n",
      "  (4, 16)\t0.544082434129559\n",
      "  (4, 13)\t0.4516351457444982\n",
      "  (4, 32)\t0.544082434129559\n",
      "  (5, 36)\t0.3535533905932738\n",
      "  (5, 22)\t0.3535533905932738\n",
      "  (5, 25)\t0.3535533905932738\n",
      "  (5, 1)\t0.3535533905932738\n",
      "  (5, 15)\t0.3535533905932738\n",
      "  (5, 9)\t0.3535533905932738\n",
      "  (5, 34)\t0.3535533905932738\n",
      "  (5, 10)\t0.3535533905932738\n",
      "  (6, 13)\t0.2538946927732448\n",
      "  (6, 28)\t0.30586557259384056\n",
      "  (6, 14)\t0.30586557259384056\n",
      "  (6, 7)\t0.6117311451876811\n",
      "  (6, 29)\t0.30586557259384056\n",
      "  (6, 2)\t0.30586557259384056\n",
      "  (6, 4)\t0.30586557259384056\n",
      "  (6, 24)\t0.30586557259384056\n",
      "(7, 42)\n",
      "(7,)\n"
     ]
    }
   ],
   "source": [
    "from sklearn.model_selection import train_test_split\n",
    "from sklearn.feature_extraction.text import CountVectorizer\n",
    "from sklearn.feature_extraction.text import TfidfTransformer\n",
    "from sklearn.naive_bayes import MultinomialNB\n",
    "X_train, X_test, y_train, y_test = train_test_split(df['content'], df['sentiment'], random_state = 0)\n",
    "print(X_train[0])\n",
    "count_vect = CountVectorizer(stop_words='english')\n",
    "\n",
    "X_train_counts = count_vect.fit_transform(X_train)\n",
    "print(count_vect.get_feature_names())\n",
    "print(count_vect)\n",
    "print(type(X_train_counts))\n",
    "print(X_train_counts[0].toarray())\n",
    "print(X_train_counts.shape)\n",
    "tfidf_transformer = TfidfTransformer()\n",
    "X_train_tfidf = tfidf_transformer.fit_transform(X_train_counts)\n",
    "print(X_train_tfidf)\n",
    "print(X_train_tfidf.shape)\n",
    "clf = MultinomialNB().fit(X_train_tfidf, y_train)\n",
    "print(y_train)"
   ]
  },
  {
   "cell_type": "code",
   "execution_count": null,
   "metadata": {},
   "outputs": [],
   "source": []
  },
  {
   "cell_type": "code",
   "execution_count": 15,
   "metadata": {},
   "outputs": [
    {
     "name": "stdout",
     "output_type": "stream",
     "text": [
      "(10000, 39147)\n",
      "(10000, 39147)\n",
      "0.2903\n",
      "0.09474536994501535\n",
      "0.14438733747924284\n",
      "0.11527542234916974\n"
     ]
    },
    {
     "name": "stderr",
     "output_type": "stream",
     "text": [
      "/usr/local/lib/python3.5/dist-packages/sklearn/metrics/classification.py:1135: UndefinedMetricWarning: F-score is ill-defined and being set to 0.0 in labels with no predicted samples.\n",
      "  'precision', 'predicted', average, warn_for)\n",
      "/usr/local/lib/python3.5/dist-packages/sklearn/metrics/classification.py:1135: UndefinedMetricWarning: Precision is ill-defined and being set to 0.0 in labels with no predicted samples.\n",
      "  'precision', 'predicted', average, warn_for)\n"
     ]
    }
   ],
   "source": [
    "from sklearn.metrics import accuracy_score, f1_score, precision_score, recall_score, classification_report, confusion_matrix\n",
    "# count_vect = CountVectorizer()\n",
    "X_test_counts = count_vect.transform(X_test)\n",
    "print(X_test_counts.shape)\n",
    "tfidf_transformer = TfidfTransformer()\n",
    "X_test_tfidf = tfidf_transformer.fit_transform(X_test_counts)\n",
    "print(X_test_tfidf.shape)\n",
    "y_pred = clf.predict(X_test_tfidf)\n",
    "print(accuracy_score(y_test, y_pred))\n",
    "print(f1_score(y_test, y_pred, average=\"macro\"))\n",
    "print(precision_score(y_test, y_pred, average=\"macro\"))\n",
    "print(recall_score(y_test, y_pred, average=\"macro\"))"
   ]
  },
  {
   "cell_type": "code",
   "execution_count": 8,
   "metadata": {},
   "outputs": [
    {
     "name": "stdout",
     "output_type": "stream",
     "text": [
      "0.4382\n",
      "0.15705724924108835\n",
      "0.3347070661586385\n",
      "0.1784108105670551\n"
     ]
    },
    {
     "name": "stderr",
     "output_type": "stream",
     "text": [
      "/usr/local/lib/python3.5/dist-packages/sklearn/metrics/classification.py:1135: UndefinedMetricWarning: F-score is ill-defined and being set to 0.0 in labels with no predicted samples.\n",
      "  'precision', 'predicted', average, warn_for)\n",
      "/usr/local/lib/python3.5/dist-packages/sklearn/metrics/classification.py:1135: UndefinedMetricWarning: Precision is ill-defined and being set to 0.0 in labels with no predicted samples.\n",
      "  'precision', 'predicted', average, warn_for)\n"
     ]
    }
   ],
   "source": [
    "#train accuracy\n",
    "\n",
    "y_train_pred = clf.predict(X_train_tfidf)\n",
    "print(accuracy_score(y_train, y_train_pred))\n",
    "print(f1_score(y_train, y_train_pred, average=\"macro\"))\n",
    "print(precision_score(y_train, y_train_pred, average=\"macro\"))\n",
    "print(recall_score(y_train, y_train_pred, average=\"macro\"))"
   ]
  },
  {
   "cell_type": "code",
   "execution_count": 18,
   "metadata": {},
   "outputs": [
    {
     "name": "stdout",
     "output_type": "stream",
     "text": [
      "0.3215\n",
      "0.17386487566561723\n",
      "0.18667607470868786\n",
      "0.17434969702712635\n"
     ]
    }
   ],
   "source": [
    "from sklearn import svm\n",
    "clf_svm = svm.LinearSVC().fit(X_train_tfidf, y_train)\n",
    "y_pred = clf_svm.predict(X_test_tfidf)\n",
    "print(accuracy_score(y_test, y_pred))\n",
    "print(f1_score(y_test, y_pred, average=\"macro\"))\n",
    "print(precision_score(y_test, y_pred, average=\"macro\"))\n",
    "print(recall_score(y_test, y_pred, average=\"macro\"))"
   ]
  },
  {
   "cell_type": "code",
   "execution_count": 12,
   "metadata": {},
   "outputs": [
    {
     "name": "stdout",
     "output_type": "stream",
     "text": [
      "0.2176\n",
      "0.027494187809562313\n",
      "0.01673846153846154\n",
      "0.07692307692307693\n"
     ]
    },
    {
     "name": "stderr",
     "output_type": "stream",
     "text": [
      "/usr/local/lib/python3.5/dist-packages/sklearn/metrics/classification.py:1135: UndefinedMetricWarning: F-score is ill-defined and being set to 0.0 in labels with no predicted samples.\n",
      "  'precision', 'predicted', average, warn_for)\n",
      "/usr/local/lib/python3.5/dist-packages/sklearn/metrics/classification.py:1135: UndefinedMetricWarning: Precision is ill-defined and being set to 0.0 in labels with no predicted samples.\n",
      "  'precision', 'predicted', average, warn_for)\n"
     ]
    }
   ],
   "source": [
    "from sklearn import svm\n",
    "clf_svc = svm.SVC()\n",
    "clf_svc.fit(X_train_tfidf, y_train)\n",
    "y_pred = clf_svc.predict(X_test_tfidf)\n",
    "print(accuracy_score(y_test, y_pred))\n",
    "print(f1_score(y_test, y_pred, average=\"macro\"))\n",
    "print(precision_score(y_test, y_pred, average=\"macro\"))\n",
    "print(recall_score(y_test, y_pred, average=\"macro\"))"
   ]
  },
  {
   "cell_type": "code",
   "execution_count": 11,
   "metadata": {},
   "outputs": [
    {
     "name": "stdout",
     "output_type": "stream",
     "text": [
      "0.2154\n",
      "0.02726547765218162\n"
     ]
    },
    {
     "name": "stderr",
     "output_type": "stream",
     "text": [
      "/usr/local/lib/python3.5/dist-packages/sklearn/metrics/classification.py:1135: UndefinedMetricWarning: F-score is ill-defined and being set to 0.0 in labels with no predicted samples.\n",
      "  'precision', 'predicted', average, warn_for)\n",
      "/usr/local/lib/python3.5/dist-packages/sklearn/metrics/classification.py:1135: UndefinedMetricWarning: Precision is ill-defined and being set to 0.0 in labels with no predicted samples.\n",
      "  'precision', 'predicted', average, warn_for)\n"
     ]
    },
    {
     "name": "stdout",
     "output_type": "stream",
     "text": [
      "0.01656923076923077\n",
      "0.07692307692307693\n"
     ]
    }
   ],
   "source": [
    "#train accuracy\n",
    "\n",
    "y_train_pred = clf_svc.predict(X_train_tfidf)\n",
    "print(accuracy_score(y_train, y_train_pred))\n",
    "print(f1_score(y_train, y_train_pred, average=\"macro\"))\n",
    "print(precision_score(y_train, y_train_pred, average=\"macro\"))\n",
    "print(recall_score(y_train, y_train_pred, average=\"macro\"))"
   ]
  },
  {
   "cell_type": "code",
   "execution_count": null,
   "metadata": {},
   "outputs": [],
   "source": []
  }
 ],
 "metadata": {
  "kernelspec": {
   "display_name": "Python 3",
   "language": "python",
   "name": "python3"
  },
  "language_info": {
   "codemirror_mode": {
    "name": "ipython",
    "version": 3
   },
   "file_extension": ".py",
   "mimetype": "text/x-python",
   "name": "python",
   "nbconvert_exporter": "python",
   "pygments_lexer": "ipython3",
   "version": "3.5.2"
  }
 },
 "nbformat": 4,
 "nbformat_minor": 2
}
